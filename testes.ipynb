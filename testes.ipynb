{
 "cells": [
  {
   "cell_type": "code",
   "execution_count": 23,
   "metadata": {},
   "outputs": [
    {
     "name": "stdout",
     "output_type": "stream",
     "text": [
      "200\n"
     ]
    }
   ],
   "source": [
    "import requests\n",
    "\n",
    "endpoint = \"https://api.lyrics.ovh/v1/mitski/my-love-mine-all-mine\"\n",
    "\n",
    "response = requests.get(endpoint)\n",
    "print(response.status_code)"
   ]
  },
  {
   "cell_type": "code",
   "execution_count": 22,
   "metadata": {},
   "outputs": [
    {
     "name": "stdout",
     "output_type": "stream",
     "text": [
      "Moon, a hole of light\n",
      "Through the big top tent up high\n",
      "Here before and after me\n",
      "Shinin' down on me\n",
      "Moon, tell me if I could\n",
      "Send up my heart to you?\n",
      "\n",
      "So, when I die, which I must do\n",
      "\n",
      "Could it shine down here with you?\n",
      "\n",
      "\n",
      "\n",
      "'Cause my love is mine, all mine\n",
      "\n",
      "I love, mine, mine, mine\n",
      "\n",
      "Nothing in the world belongs to me\n",
      "\n",
      "But my love, mine, all mine, all mine\n",
      "\n",
      "\n",
      "\n",
      "My baby here on earth\n",
      "\n",
      "Showed me what my heart was worth\n",
      "\n",
      "So, when it comes to be my turn\n",
      "\n",
      "Could you shine it down here for her?\n",
      "\n",
      "\n",
      "\n",
      "'Cause my love is mine, all mine\n",
      "\n",
      "I love, mine, mine, mine\n",
      "\n",
      "Nothing in the world belongs to me\n",
      "\n",
      "But my love, mine, all mine\n",
      "\n",
      "Nothing in the world is mine for free\n",
      "\n",
      "But my love, mine, all mine, all mine\n"
     ]
    }
   ],
   "source": [
    "print(response.json()['lyrics'])\n"
   ]
  }
 ],
 "metadata": {
  "kernelspec": {
   "display_name": ".venv",
   "language": "python",
   "name": "python3"
  },
  "language_info": {
   "codemirror_mode": {
    "name": "ipython",
    "version": 3
   },
   "file_extension": ".py",
   "mimetype": "text/x-python",
   "name": "python",
   "nbconvert_exporter": "python",
   "pygments_lexer": "ipython3",
   "version": "3.12.4"
  }
 },
 "nbformat": 4,
 "nbformat_minor": 2
}
